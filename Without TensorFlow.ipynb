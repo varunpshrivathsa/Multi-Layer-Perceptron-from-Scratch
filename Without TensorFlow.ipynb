{
 "cells": [
  {
   "cell_type": "code",
   "execution_count": 1,
   "metadata": {},
   "outputs": [],
   "source": [
    "import numpy as np\n",
    "import math"
   ]
  },
  {
   "cell_type": "code",
   "execution_count": 2,
   "metadata": {},
   "outputs": [],
   "source": [
    "def sigmoid(x):\n",
    "    return 1 / (1 + np.exp(-x))\n",
    "\n",
    "def sigmoid_derivative(x):\n",
    "    return x * (1 - x)\n",
    "\n",
    "def binary_cross_entropy(y_true, y_pred):\n",
    "    return -np.mean(y_true * np.log(y_pred) + (1 - y_true) * np.log(1 - y_pred))\n"
   ]
  },
  {
   "cell_type": "code",
   "execution_count": 3,
   "metadata": {},
   "outputs": [],
   "source": [
    "X = np.array([\n",
    "    [0, 0],\n",
    "    [0, 1],\n",
    "    [1, 0],\n",
    "    [1, 1]\n",
    "])\n",
    "\n",
    "y = np.array([[0], [1], [1], [0]])  \n",
    "\n",
    "input_neurons = 2      \n",
    "hidden_neurons = 2    \n",
    "output_neurons = 1     \n",
    "\n",
    "learning_rate = 0.1    \n",
    "epochs = 10000        \n",
    "\n",
    "np.random.seed(42)\n",
    "W1 = np.random.randn(input_neurons, hidden_neurons)  \n",
    "b1 = np.zeros((1, hidden_neurons))                   \n",
    "W2 = np.random.randn(hidden_neurons, output_neurons) \n",
    "b2 = np.zeros((1, output_neurons))                   \n"
   ]
  },
  {
   "cell_type": "code",
   "execution_count": 4,
   "metadata": {},
   "outputs": [
    {
     "name": "stdout",
     "output_type": "stream",
     "text": [
      "Epoch 0, Loss: 0.7049\n",
      "Epoch 1000, Loss: 0.6920\n",
      "Epoch 2000, Loss: 0.6840\n",
      "Epoch 3000, Loss: 0.5989\n",
      "Epoch 4000, Loss: 0.4697\n",
      "Epoch 5000, Loss: 0.4222\n",
      "Epoch 6000, Loss: 0.4023\n",
      "Epoch 7000, Loss: 0.3916\n",
      "Epoch 8000, Loss: 0.3848\n",
      "Epoch 9000, Loss: 0.3801\n"
     ]
    }
   ],
   "source": [
    "# Training the MLP\n",
    "for epoch in range(epochs):\n",
    "    # Forward Propagation\n",
    "    Z1 = np.dot(X, W1) + b1\n",
    "    A1 = sigmoid(Z1)  # Hidden layer activation\n",
    "\n",
    "    Z2 = np.dot(A1, W2) + b2\n",
    "    A2 = sigmoid(Z2)  # Output layer activation\n",
    "\n",
    "    # Compute Loss\n",
    "    loss = binary_cross_entropy(y, A2)\n",
    "\n",
    "    #  Backpropagation\n",
    "    # Output layer error\n",
    "    dL_dA2 = A2 - y  # Derivative of BCE loss w.r.t A2\n",
    "    dA2_dZ2 = sigmoid_derivative(A2)\n",
    "    dL_dZ2 = dL_dA2 * dA2_dZ2  # Gradient of Loss w.r.t Z2\n",
    "\n",
    "    # Hidden layer error\n",
    "    dL_dA1 = np.dot(dL_dZ2, W2.T)  # Backpropagate error from output to hidden layer\n",
    "    dA1_dZ1 = sigmoid_derivative(A1)\n",
    "    dL_dZ1 = dL_dA1 * dA1_dZ1  # Gradient of Loss w.r.t Z1\n",
    "\n",
    "    # Compute Gradients\n",
    "    dL_dW2 = np.dot(A1.T, dL_dZ2)  # Gradient for W2\n",
    "    dL_db2 = np.sum(dL_dZ2, axis=0, keepdims=True)  # Gradient for b2\n",
    "\n",
    "    dL_dW1 = np.dot(X.T, dL_dZ1)  # Gradient for W1\n",
    "    dL_db1 = np.sum(dL_dZ1, axis=0, keepdims=True)  # Gradient for b1\n",
    "\n",
    "    # Update Weights and Biases\n",
    "    W2 -= learning_rate * dL_dW2\n",
    "    b2 -= learning_rate * dL_db2\n",
    "    W1 -= learning_rate * dL_dW1\n",
    "    b1 -= learning_rate * dL_db1\n",
    "\n",
    "    # Print loss every 1000 epochs\n",
    "    if epoch % 1000 == 0:\n",
    "        print(f\"Epoch {epoch}, Loss: {loss:.4f}\")\n"
   ]
  },
  {
   "cell_type": "code",
   "execution_count": 6,
   "metadata": {},
   "outputs": [
    {
     "name": "stdout",
     "output_type": "stream",
     "text": [
      "\n",
      "Final Predictions after training:\n",
      "Input: [0 0] -> Predicted Output: 0\n",
      "Input: [0 1] -> Predicted Output: 0\n",
      "Input: [1 0] -> Predicted Output: 1\n",
      "Input: [1 1] -> Predicted Output: 1\n"
     ]
    }
   ],
   "source": [
    "print(\"\\nFinal Predictions after training:\")\n",
    "for i in range(len(X)):\n",
    "    Z1 = np.dot(X[i], W1) + b1\n",
    "    A1 = sigmoid(Z1)\n",
    "    Z2 = np.dot(A1, W2) + b2\n",
    "    A2 = sigmoid(Z2)\n",
    "    \n",
    "    # Apply threshold\n",
    "    predicted_output = 1 if A2[0][0] >= 0.5 else 0\n",
    "    print(f\"Input: {X[i]} -> Predicted Output: {predicted_output}\")\n"
   ]
  },
  {
   "cell_type": "code",
   "execution_count": null,
   "metadata": {},
   "outputs": [],
   "source": []
  }
 ],
 "metadata": {
  "kernelspec": {
   "display_name": "base",
   "language": "python",
   "name": "python3"
  },
  "language_info": {
   "codemirror_mode": {
    "name": "ipython",
    "version": 3
   },
   "file_extension": ".py",
   "mimetype": "text/x-python",
   "name": "python",
   "nbconvert_exporter": "python",
   "pygments_lexer": "ipython3",
   "version": "3.12.7"
  }
 },
 "nbformat": 4,
 "nbformat_minor": 2
}
